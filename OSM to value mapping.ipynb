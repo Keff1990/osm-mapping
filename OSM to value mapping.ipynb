{
 "cells": [
  {
   "cell_type": "markdown",
   "metadata": {},
   "source": [
    "Location data is scraped from OpenStreetMap (OSM) resources using the OverPass API.  \n",
    "PSGC data taken from https://data.humdata.org/dataset/philippines-administrative-levels-0-to-3  \n",
    "OSMPythonTools package: https://wiki.openstreetmap.org/wiki/OSMPythonTools\n"
   ]
  },
  {
   "cell_type": "code",
   "execution_count": 17,
   "metadata": {
    "ExecuteTime": {
     "end_time": "2021-04-20T09:14:38.056561Z",
     "start_time": "2021-04-20T09:14:37.780243Z"
    }
   },
   "outputs": [
    {
     "name": "stdout",
     "output_type": "stream",
     "text": [
      "The autoreload extension is already loaded. To reload it, use:\n",
      "  %reload_ext autoreload\n"
     ]
    }
   ],
   "source": [
    "import numpy as np\n",
    "import pandas as pd\n",
    "import geopandas as gpd\n",
    "import shapely\n",
    "from OSMPythonTools.overpass import Overpass\n",
    "\n",
    "overpass = Overpass()"
   ]
  },
  {
   "cell_type": "markdown",
   "metadata": {},
   "source": [
    "## Functions"
   ]
  },
  {
   "cell_type": "code",
   "execution_count": 50,
   "metadata": {
    "ExecuteTime": {
     "end_time": "2021-04-20T09:36:53.840924Z",
     "start_time": "2021-04-20T09:36:53.801831Z"
    }
   },
   "outputs": [],
   "source": [
    "def string_contains(x, list_of_values, values_map=None, ignore_words=None):\n",
    "    '''\n",
    "    Evaluates options for x from a list_of_values. Option to include word mapping or identify words to ignore.\n",
    "    \n",
    "    Returns a string or a list of strings of evaluated options.\n",
    "    '''\n",
    "    if not x:\n",
    "        return None\n",
    "    \n",
    "    while '  ' in x:\n",
    "        x = x.replace('  ', ' ')\n",
    "        \n",
    "    x = x.strip()\n",
    "    output = [val for val in list_of_values if val.lower()==x.lower()]\n",
    "    \n",
    "    if output:\n",
    "        return output[0]\n",
    "\n",
    "    if values_map:\n",
    "        if x.lower() in values_map.keys():\n",
    "            x = values_map[x.lower()]    \n",
    "            \n",
    "            output = [val for val in list_of_values if val.lower()==x.lower()]\n",
    "\n",
    "            if output:\n",
    "                return output[0]\n",
    "\n",
    "    if ignore_words:\n",
    "        for word in ignore_words:\n",
    "            x = x.lower().replace(word, '').strip()\n",
    "            x = x.replace('  ', ' ').strip()\n",
    "        \n",
    "        # if words in x is complete words in list_of_values (or vice versa)\n",
    "        ### CODE HERE ###\n",
    "        # else:\n",
    "        output = [val for val in list_of_values if val.lower()==x.lower()]\n",
    "\n",
    "        if output:\n",
    "            return output[0]\n",
    "\n",
    "    output += [val for val in list_of_values if ((val.lower() in x.lower()) or (x.lower() in val.lower()))]\n",
    "    \n",
    "    if len(output) == 1: output = output[0]\n",
    "    \n",
    "    if not output:\n",
    "        return None\n",
    "    return output"
   ]
  },
  {
   "cell_type": "code",
   "execution_count": 51,
   "metadata": {
    "ExecuteTime": {
     "end_time": "2021-04-20T09:36:56.147411Z",
     "start_time": "2021-04-20T09:36:56.119225Z"
    }
   },
   "outputs": [],
   "source": [
    "def query_city_province(name, city=True, province=True):\n",
    "    '''\n",
    "    Queries a name and gets the top result in OSM Overpass API.\n",
    "    Outputs a dictionary with keys city, province.\n",
    "    \n",
    "    Inputs:\n",
    "    name: string, name of location to query.\n",
    "    city: bool, True if result will be returned.\n",
    "    province: bool, True if result will be returned.\n",
    "    '''\n",
    "    osm_result = overpass.query(f'way[\"name\"=\"{name}\"]; out body;')\n",
    "    try:\n",
    "        osm_way = osm_result.elements()[0]\n",
    "    except:\n",
    "        return None\n",
    "    \n",
    "    result = {}\n",
    "    if city:\n",
    "        if osm_way.tag('addr:city'):\n",
    "            result['city'] = osm_way.tag('addr:city')\n",
    "        else:\n",
    "            result['city'] = None\n",
    "    if province:\n",
    "        if osm_way.tag('addr:province'):\n",
    "            result['province'] = osm_way.tag('addr:province')\n",
    "        else:\n",
    "            result['province'] = None\n",
    "    return result"
   ]
  },
  {
   "cell_type": "markdown",
   "metadata": {},
   "source": [
    "## Loading Data"
   ]
  },
  {
   "cell_type": "code",
   "execution_count": 20,
   "metadata": {
    "ExecuteTime": {
     "end_time": "2021-04-20T09:14:47.437954Z",
     "start_time": "2021-04-20T09:14:47.386552Z"
    }
   },
   "outputs": [],
   "source": [
    "df = pd.read_csv('data/processed/data.csv', \n",
    "                 names=[\n",
    " 'Name',\n",
    " 'City/Municipality',\n",
    " 'Province',\n",
    " 'Region',], header=0)"
   ]
  },
  {
   "cell_type": "code",
   "execution_count": 21,
   "metadata": {
    "ExecuteTime": {
     "end_time": "2021-04-20T09:14:53.061963Z",
     "start_time": "2021-04-20T09:14:48.580252Z"
    }
   },
   "outputs": [],
   "source": [
    "cities_gdf = gpd.read_file('data/raw/phl_admbnda_adm3_psa_namria_20200529.shp')"
   ]
  },
  {
   "cell_type": "markdown",
   "metadata": {
    "ExecuteTime": {
     "end_time": "2021-01-06T06:51:54.785195Z",
     "start_time": "2021-01-06T06:51:54.735483Z"
    }
   },
   "source": [
    "### Cleaning Provinces"
   ]
  },
  {
   "cell_type": "markdown",
   "metadata": {},
   "source": [
    "#### Evaluating Province Names"
   ]
  },
  {
   "cell_type": "code",
   "execution_count": 22,
   "metadata": {
    "ExecuteTime": {
     "end_time": "2021-04-20T09:14:53.093250Z",
     "start_time": "2021-04-20T09:14:53.064525Z"
    }
   },
   "outputs": [],
   "source": [
    "cities_gdf['ADM2_EN2'] = cities_gdf['ADM2_EN']\n",
    "cities_gdf.loc[cities_gdf['ADM2_EN2'].str.contains('NCR'), 'ADM2_EN2'] = 'NCR' #combine all NCR classifications"
   ]
  },
  {
   "cell_type": "code",
   "execution_count": 23,
   "metadata": {
    "ExecuteTime": {
     "end_time": "2021-04-20T09:14:54.693239Z",
     "start_time": "2021-04-20T09:14:54.612563Z"
    }
   },
   "outputs": [],
   "source": [
    "provinces = list(cities_gdf['ADM2_EN2'].unique())\n",
    "\n",
    "province_map = {\n",
    "    'metro manila': 'NCR', \n",
    "} # values used in OpenStreetMap"
   ]
  },
  {
   "cell_type": "code",
   "execution_count": 24,
   "metadata": {
    "ExecuteTime": {
     "end_time": "2021-04-20T09:14:55.135374Z",
     "start_time": "2021-04-20T09:14:55.098119Z"
    }
   },
   "outputs": [],
   "source": [
    "df['province_map'] = df['Province']\n",
    "df['province_map'].fillna('', inplace=True)\n",
    "df['province_map'] = df['province_map'].str.strip()\n",
    "\n",
    "df['province_map'] = [string_contains(x, provinces, province_map) for x in df['province_map'].values]"
   ]
  },
  {
   "cell_type": "code",
   "execution_count": 52,
   "metadata": {
    "ExecuteTime": {
     "end_time": "2021-04-20T09:38:16.951465Z",
     "start_time": "2021-04-20T09:38:16.919262Z"
    }
   },
   "outputs": [
    {
     "data": {
      "text/plain": [
       "1189    [Davao del Norte, Davao Oriental, Davao del Su...\n",
       "Name: province_map, dtype: object"
      ]
     },
     "execution_count": 52,
     "metadata": {},
     "output_type": "execute_result"
    }
   ],
   "source": [
    "#review provinces with multiple matches\n",
    "df['province_map'][df['province_map'].apply(lambda x: isinstance(x, list))]"
   ]
  },
  {
   "cell_type": "code",
   "execution_count": 54,
   "metadata": {
    "ExecuteTime": {
     "end_time": "2021-04-20T09:39:14.345944Z",
     "start_time": "2021-04-20T09:39:14.317812Z"
    }
   },
   "outputs": [
    {
     "data": {
      "text/plain": [
       "Name                                            Davao Doctors Hospital\n",
       "City/Municipality                                               Davao \n",
       "Province                                                        Davao \n",
       "Region                                                             NaN\n",
       "province_map         [Davao del Norte, Davao Oriental, Davao del Su...\n",
       "city_map                                                    Davao City\n",
       "Name: 1189, dtype: object"
      ]
     },
     "execution_count": 54,
     "metadata": {},
     "output_type": "execute_result"
    }
   ],
   "source": [
    "df.loc[1189]"
   ]
  },
  {
   "cell_type": "code",
   "execution_count": 26,
   "metadata": {
    "ExecuteTime": {
     "end_time": "2021-04-20T09:14:58.292342Z",
     "start_time": "2021-04-20T09:14:58.253766Z"
    }
   },
   "outputs": [],
   "source": [
    "# Clean Davao values\n",
    "df.loc[df['City/Municipality'] == 'Davao', 'province_map'] = 'Davao del Sur'"
   ]
  },
  {
   "cell_type": "markdown",
   "metadata": {},
   "source": [
    "#### Identifying Province using OSM"
   ]
  },
  {
   "cell_type": "code",
   "execution_count": 38,
   "metadata": {
    "ExecuteTime": {
     "end_time": "2021-04-20T09:20:28.829287Z",
     "start_time": "2021-04-20T09:20:28.797616Z"
    }
   },
   "outputs": [
    {
     "name": "stdout",
     "output_type": "stream",
     "text": [
      "for Rizal Medical Center\n",
      "\n",
      "Evaluate what is the appropriate province from osm:\n",
      "Metro Manila\n",
      "\n",
      "Evaluate what is the appropriate value in our provinces list via province_map:\n",
      "NCR\n"
     ]
    }
   ],
   "source": [
    "print(\"for Rizal Medical Center\\n\")\n",
    "\n",
    "print(\"Evaluate what is the appropriate province from osm:\")\n",
    "print(query_city_province('Rizal Medical Center')['province'])\n",
    "print()\n",
    "print(\"Map to the appropriate value in our provinces list via province_map:\")\n",
    "print(string_contains(query_city_province('Rizal Medical Center')['province'], \n",
    "                          provinces, province_map))"
   ]
  },
  {
   "cell_type": "code",
   "execution_count": 43,
   "metadata": {
    "ExecuteTime": {
     "end_time": "2021-04-20T09:27:05.914182Z",
     "start_time": "2021-04-20T09:27:05.860724Z"
    }
   },
   "outputs": [],
   "source": [
    "# Update the institution with the correct province.\n",
    "institution = 'Rizal Medical Center'\n",
    "\n",
    "df.loc[df['Name'] == institution, 'province_map'] \\\n",
    "        = string_contains(query_city_province(institution)['province'], \n",
    "                          provinces, province_map)"
   ]
  },
  {
   "cell_type": "markdown",
   "metadata": {},
   "source": [
    "### Cleaning Cities"
   ]
  },
  {
   "cell_type": "code",
   "execution_count": 40,
   "metadata": {
    "ExecuteTime": {
     "end_time": "2021-04-20T09:24:27.525783Z",
     "start_time": "2021-04-20T09:24:27.480061Z"
    }
   },
   "outputs": [],
   "source": [
    "# manually created mapping list. This can be automated using text analysis.\n",
    "city_map = {\n",
    "    'malabon city': 'City of Malabon',\n",
    "    'san jose del monte city': 'City of San Jose del Monte',\n",
    "    'mandaluyong city': 'City of Mandaluyong',\n",
    "    'meycauayan city': 'City of Meycauayan',\n",
    "    'meycauayan': 'City of Meycauayan',\n",
    "    'tagum': 'City of Tagum',\n",
    "    'san jose del monte': 'City of San Jose del Monte',\n",
    "    'malabon': 'City of Malabon',\n",
    "    'kidapawan city': 'City of Kidapawan',\n",
    "    'tagum city': 'City of Tagum',\n",
    "    'sampaloc manila': 'Sampaloc',\n",
    "    'bacoor': 'Bacoor City',\n",
    "    'canlubang laguna': 'City of Calamba',\n",
    "    'cabatauan, iloilo': 'Cabatuan',\n",
    "    'cabatuan, iloilo': 'Cabatuan',    \n",
    "    'mandaue': 'Mandaue City',\n",
    "    'lawaan, roxas': 'Roxas City',\n",
    "    'lawaan roxas': 'Roxas City',    \n",
    "    'banica, roxas': 'Roxas City',\n",
    "    'banica roxas': 'Roxas City',\n",
    "    'brgy. baybay, roxas': 'Roxas City',\n",
    "    'cabanatuan': 'Cabanatuan City',\n",
    "    'mandaluyong': 'City of Mandaluyong',\n",
    "    'tondo': 'Tondo I / II',\n",
    "    'caloocan': 'Caloocan City',\n",
    "    'san miguel, bulacan': 'San Miguel',\n",
    "    'batangas': 'Batangas City',\n",
    "    'lucena': 'Lucena City',\n",
    "    'baguio': 'Baguio City',\n",
    "    'canlubang': 'City of Calamba',\n",
    "    'victorias': 'City of Victorias',\n",
    "    'calbayog': 'Calbayog City',\n",
    "    'tabaco': 'City of Tabaco', \n",
    "    'vigan': 'City of Vigan',\n",
    "    'lucena': 'Lucena City',\n",
    "    'tagbilaran': 'Tagbilaran City',\n",
    "    'bogo': 'City of Bogo',\n",
    "    'cotabato': 'Cotabato City',\n",
    "    'kidapawan': 'City of Kidapawan',\n",
    "    'lipa': 'Lipa City',\n",
    "    'taal lemery': 'Lemery',\n",
    "    'santiago bayan': 'Santiago',\n",
    "    'naga panganiban': 'Naga',\n",
    "    'san pablo rizal': 'San Pablo',\n",
    "    'malaybalay': 'City of Malaybalay'\n",
    "}"
   ]
  },
  {
   "cell_type": "code",
   "execution_count": 41,
   "metadata": {
    "ExecuteTime": {
     "end_time": "2021-04-20T09:24:46.610049Z",
     "start_time": "2021-04-20T09:24:27.729001Z"
    }
   },
   "outputs": [],
   "source": [
    "df['city_map'] = df['City/Municipality']\n",
    "df['city_map'].fillna('', inplace=True)\n",
    "df['city_map'] = df['city_map'].str.strip()\n",
    "\n",
    "df.loc[df['city_map'].str.contains('roxas city', case=False) == True, ['city_map']] = 'Roxas City'\n",
    "df.loc[df['city_map'].str.contains('angono', case=False) == True, ['city_map']] = 'Angono'\n",
    "\n",
    "df['city_map'] = [string_contains(x, list(cities_gdf['ADM3_EN'].unique()), city_map, ignore_words=['city']) for x in df['city_map'].values]"
   ]
  },
  {
   "cell_type": "code",
   "execution_count": 46,
   "metadata": {
    "ExecuteTime": {
     "end_time": "2021-04-20T09:29:42.931536Z",
     "start_time": "2021-04-20T09:29:42.892530Z"
    },
    "scrolled": false
   },
   "outputs": [
    {
     "data": {
      "text/html": [
       "<div>\n",
       "<style scoped>\n",
       "    .dataframe tbody tr th:only-of-type {\n",
       "        vertical-align: middle;\n",
       "    }\n",
       "\n",
       "    .dataframe tbody tr th {\n",
       "        vertical-align: top;\n",
       "    }\n",
       "\n",
       "    .dataframe thead th {\n",
       "        text-align: right;\n",
       "    }\n",
       "</style>\n",
       "<table border=\"1\" class=\"dataframe\">\n",
       "  <thead>\n",
       "    <tr style=\"text-align: right;\">\n",
       "      <th></th>\n",
       "      <th>City/Municipality</th>\n",
       "      <th>city_map</th>\n",
       "    </tr>\n",
       "  </thead>\n",
       "  <tbody>\n",
       "    <tr>\n",
       "      <th>10857</th>\n",
       "      <td>Gao</td>\n",
       "      <td>[Argao, Baggao, Baliangao, Balungao, Bongao, C...</td>\n",
       "    </tr>\n",
       "    <tr>\n",
       "      <th>10860</th>\n",
       "      <td>Gao</td>\n",
       "      <td>[Argao, Baggao, Baliangao, Balungao, Bongao, C...</td>\n",
       "    </tr>\n",
       "    <tr>\n",
       "      <th>11408</th>\n",
       "      <td>Gao</td>\n",
       "      <td>[Argao, Baggao, Baliangao, Balungao, Bongao, C...</td>\n",
       "    </tr>\n",
       "    <tr>\n",
       "      <th>11611</th>\n",
       "      <td>Gen</td>\n",
       "      <td>[City of General Trias, Gen. Mariano Alvarez, ...</td>\n",
       "    </tr>\n",
       "  </tbody>\n",
       "</table>\n",
       "</div>"
      ],
      "text/plain": [
       "      City/Municipality                                           city_map\n",
       "10857               Gao  [Argao, Baggao, Baliangao, Balungao, Bongao, C...\n",
       "10860               Gao  [Argao, Baggao, Baliangao, Balungao, Bongao, C...\n",
       "11408               Gao  [Argao, Baggao, Baliangao, Balungao, Bongao, C...\n",
       "11611               Gen  [City of General Trias, Gen. Mariano Alvarez, ..."
      ]
     },
     "execution_count": 46,
     "metadata": {},
     "output_type": "execute_result"
    }
   ],
   "source": [
    "#review cities with multiple matches\n",
    "# pd.set_option('display.max_rows', None)\n",
    "df[['City/Municipality','city_map']][df['city_map'].apply(lambda x: isinstance(x, list))]"
   ]
  },
  {
   "cell_type": "code",
   "execution_count": 45,
   "metadata": {
    "ExecuteTime": {
     "end_time": "2021-04-20T09:28:13.348285Z",
     "start_time": "2021-04-20T09:28:13.318642Z"
    }
   },
   "outputs": [
    {
     "data": {
      "text/plain": [
       "'City of Pasig'"
      ]
     },
     "execution_count": 45,
     "metadata": {},
     "output_type": "execute_result"
    }
   ],
   "source": [
    "string_contains(query_city_province('Rizal Medical Center')['city'], \n",
    "                        list(cities_gdf['ADM3_EN'].unique()), \n",
    "                        ignore_words=['city'])"
   ]
  },
  {
   "cell_type": "code",
   "execution_count": 16,
   "metadata": {
    "ExecuteTime": {
     "end_time": "2021-01-14T09:49:53.488690Z",
     "start_time": "2021-01-14T09:49:53.400020Z"
    }
   },
   "outputs": [],
   "source": [
    "institution = 'Rizal Medical Center'\n",
    "    \n",
    "df.loc[df['Name of Institution/Hospital'] == institution, 'city_map'] = \\\n",
    "        string_contains(query_city_province(institution)['city'], \n",
    "                        list(cities_gdf['ADM3_EN'].unique()), \n",
    "                        ignore_words=['city'])\n"
   ]
  }
 ],
 "metadata": {
  "kernelspec": {
   "display_name": "Python 3",
   "language": "python",
   "name": "python3"
  },
  "language_info": {
   "codemirror_mode": {
    "name": "ipython",
    "version": 3
   },
   "file_extension": ".py",
   "mimetype": "text/x-python",
   "name": "python",
   "nbconvert_exporter": "python",
   "pygments_lexer": "ipython3",
   "version": "3.9.2"
  },
  "toc": {
   "base_numbering": 1,
   "nav_menu": {},
   "number_sections": true,
   "sideBar": true,
   "skip_h1_title": true,
   "title_cell": "Table of Contents",
   "title_sidebar": "Contents",
   "toc_cell": false,
   "toc_position": {},
   "toc_section_display": true,
   "toc_window_display": false
  }
 },
 "nbformat": 4,
 "nbformat_minor": 2
}
